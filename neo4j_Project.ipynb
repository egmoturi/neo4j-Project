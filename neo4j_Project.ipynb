{
  "nbformat": 4,
  "nbformat_minor": 0,
  "metadata": {
    "colab": {
      "provenance": []
    },
    "kernelspec": {
      "name": "python3",
      "display_name": "Python 3"
    },
    "language_info": {
      "name": "python"
    }
  },
  "cells": [
    {
      "cell_type": "code",
      "execution_count": 73,
      "metadata": {
        "colab": {
          "base_uri": "https://localhost:8080/"
        },
        "id": "7Tz-J-rnU2CB",
        "outputId": "16e27b62-e839-49c3-bfa0-e444e0ec5b1f"
      },
      "outputs": [
        {
          "output_type": "stream",
          "name": "stdout",
          "text": [
            "Looking in indexes: https://pypi.org/simple, https://us-python.pkg.dev/colab-wheels/public/simple/\n",
            "Requirement already satisfied: neo4j in /usr/local/lib/python3.9/dist-packages (5.7.0)\n",
            "Requirement already satisfied: pytz in /usr/local/lib/python3.9/dist-packages (from neo4j) (2022.7.1)\n"
          ]
        }
      ],
      "source": [
        "!pip install neo4j\n",
        "from neo4j import GraphDatabase\n",
        "import pandas as pd\n",
        "import psycopg2\n",
        "from psycopg2 import extras\n",
        "from psycopg2.extras import execute_values"
      ]
    },
    {
      "cell_type": "code",
      "source": [],
      "metadata": {
        "id": "P_idq4KSekFH"
      },
      "execution_count": 73,
      "outputs": []
    },
    {
      "cell_type": "code",
      "source": [
        "# Define Neo4j connection details\n",
        "neo4j_uri = \"neo4j+s://cff762c5.databases.neo4j.io\"\n",
        "neo4j_user = \"neo4j\"\n",
        "neo4j_password = \"gpHdU-uQ_wxpqHDsz-UpIwQVKgnBbL6q1jLx1v4g9tA\"\n",
        "driver = GraphDatabase.driver(neo4j_uri, auth=(neo4j_user, neo4j_password))"
      ],
      "metadata": {
        "id": "DDRlf4Y0U94I"
      },
      "execution_count": 74,
      "outputs": []
    },
    {
      "cell_type": "code",
      "source": [
        "!curl ipecho.net/plain"
      ],
      "metadata": {
        "colab": {
          "base_uri": "https://localhost:8080/"
        },
        "id": "E3JRB7fJVRuu",
        "outputId": "c77b7367-02be-4c0c-8f43-93aa8e3281e8"
      },
      "execution_count": 75,
      "outputs": [
        {
          "output_type": "stream",
          "name": "stdout",
          "text": [
            "35.185.141.235"
          ]
        }
      ]
    },
    {
      "cell_type": "code",
      "source": [
        "# Define Postgres connection details\n",
        "p_host = \"34.135.94.149\"\n",
        "p_database = \"kamulu2\"\n",
        "p_user = \"kamulu2\"\n",
        "p_password = \"test\""
      ],
      "metadata": {
        "id": "dgteNAVRY827"
      },
      "execution_count": 76,
      "outputs": []
    },
    {
      "cell_type": "code",
      "source": [
        "def neo4j_to_dataframe(neo4j_query):\n",
        "    # Create a Neo4j driver instance\n",
        "    driver = GraphDatabase.driver(uri, auth=(username, password))\n",
        "\n",
        "    # Execute the Neo4j query and create a DataFrame from the results\n",
        "    with driver.session() as session:\n",
        "        result = session.run(neo4j_query)\n",
        "        df = pd.DataFrame([r.values() for r in result], columns=result.keys())\n",
        "\n",
        "    # Close the Neo4j driver\n",
        "    driver.close()\n",
        "\n",
        "    # Return the DataFrame\n",
        "    return df\n",
        "\n"
      ],
      "metadata": {
        "id": "iOFQowcOaYe5"
      },
      "execution_count": 77,
      "outputs": []
    },
    {
      "cell_type": "code",
      "source": [
        "def transform_data(df):\n",
        "    # Convert date fields to datetime objects\n",
        "    df['start_date'] = pd.to_datetime(df['start_date'])\n",
        "    df['end_date'] = pd.to_datetime(df['end_date'])\n",
        "    \n",
        "    # Remove null values\n",
        "    df.dropna(inplace=True)\n",
        "    \n",
        "    # Return the transformed DataFrame\n",
        "    return df\n",
        "\n"
      ],
      "metadata": {
        "id": "y6TW7Gk_bi2w"
      },
      "execution_count": 78,
      "outputs": []
    },
    {
      "cell_type": "code",
      "source": [
        "\n",
        "\n",
        "def load_data(df):\n",
        "    # Connect to Postgres\n",
        "    conn = psycopg2.connect(host=p_host, database=p_database, user=p_user, password=p_password)\n",
        "    \n",
        "    # Create table if it doesn't exist\n",
        "    with conn.cursor() as cursor:\n",
        "        cursor.execute(\"\"\"\n",
        "        CREATE TABLE IF NOT EXISTS telcom_data (\n",
        "            customer_id INTEGER,\n",
        "            subscription_id INTEGER,\n",
        "            service_id INTEGER,\n",
        "            start_date DATE,\n",
        "            end_date DATE,\n",
        "            price FLOAT\n",
        "        )\n",
        "        \"\"\")\n",
        "    \n",
        "    # Load data into table\n",
        "    with conn.cursor() as cursor:\n",
        "        # Use the \"extras\" module to perform a bulk insert\n",
        "        extras.execute_batch(cursor, \"\"\"\n",
        "        INSERT INTO telcom_data (customer_id, subscription_id, service_id, start_date, end_date, price)\n",
        "        VALUES (%(customer_id)s, %(subscription_id)s, %(service_id)s, %(start_date)s, %(end_date)s, %(price)s)\n",
        "        \"\"\", df.to_dict('records'))\n",
        "        \n",
        "    # Commit the transaction and close the connection\n",
        "    conn.commit()\n",
        "    conn.close()\n",
        "\n",
        "\n"
      ],
      "metadata": {
        "id": "vD4CvsyFcQ3J"
      },
      "execution_count": 79,
      "outputs": []
    },
    {
      "cell_type": "code",
      "source": [
        "import psycopg2\n",
        "from psycopg2.extras import execute_values\n",
        "\n",
        "def insert_data(dataframe, conn):\n",
        "    # Define the SQL query string\n",
        "    query = \"\"\"\n",
        "    INSERT INTO subscriptions (customer_id, subscription_id, service_id, start_date, end_date, price)\n",
        "    VALUES %s\n",
        "    \"\"\"\n",
        "\n",
        "    # Extract the values from the DataFrame\n",
        "    values = list(dataframe[['customer_id', 'subscription_id', 'service_id', 'start_date', 'end_date', 'price']].itertuples(index=False, name=None))\n",
        "\n",
        "    # Use execute_values to insert the values into the database\n",
        "    with conn.cursor() as cur:\n",
        "        execute_values(cur, query, values)\n",
        "\n",
        "    # Commit the transaction and close the connection\n",
        "    conn.commit()\n",
        "    \n"
      ],
      "metadata": {
        "id": "nKCxeyWzeN_o"
      },
      "execution_count": 80,
      "outputs": []
    },
    {
      "cell_type": "code",
      "source": [
        "def main():\n",
        "    # Connect to Neo4j\n",
        "    driver = GraphDatabase.driver(neo4j_uri, auth=(neo4j_user, neo4j_password))\n",
        "\n",
        "    # Extract data from Neo4j\n",
        "    with driver.session() as session:\n",
        "        result = session.run(neo4j_query)\n",
        "        df = pd.DataFrame([r.values() for r in result], columns=result.keys())\n",
        "\n",
        "    # Transform data\n",
        "    df = transform_data(df)\n",
        "\n",
        "    # Connect to PostgreSQL\n",
        "    conn = psycopg2.connect(host=p_host, database=p_database, user=p_user, password=p_password)\n",
        "\n",
        "    # Load data into PostgreSQL\n",
        "    insert_data(df, conn)\n",
        "\n",
        "    # Close connections\n",
        "    driver.close()\n",
        "    conn.close()\n",
        "\n",
        "if __name__ == \"__main__\":\n",
        "    main()\n"
      ],
      "metadata": {
        "id": "ajsrYr9cemwg"
      },
      "execution_count": 81,
      "outputs": []
    }
  ]
}